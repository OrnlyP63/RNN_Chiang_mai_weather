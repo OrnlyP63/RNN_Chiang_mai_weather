{
 "cells": [
  {
   "cell_type": "code",
   "execution_count": 1,
   "metadata": {},
   "outputs": [],
   "source": [
    "import pandas as pd\n",
    "import numpy as np"
   ]
  },
  {
   "cell_type": "markdown",
   "metadata": {},
   "source": [
    "### EDA"
   ]
  },
  {
   "cell_type": "code",
   "execution_count": 2,
   "metadata": {},
   "outputs": [],
   "source": [
    "df = pd.read_csv(\"mueang-chiang-mai weather.csv\")"
   ]
  },
  {
   "cell_type": "code",
   "execution_count": 3,
   "metadata": {},
   "outputs": [
    {
     "data": {
      "text/html": [
       "<div>\n",
       "<style scoped>\n",
       "    .dataframe tbody tr th:only-of-type {\n",
       "        vertical-align: middle;\n",
       "    }\n",
       "\n",
       "    .dataframe tbody tr th {\n",
       "        vertical-align: top;\n",
       "    }\n",
       "\n",
       "    .dataframe thead th {\n",
       "        text-align: right;\n",
       "    }\n",
       "</style>\n",
       "<table border=\"1\" class=\"dataframe\">\n",
       "  <thead>\n",
       "    <tr style=\"text-align: right;\">\n",
       "      <th></th>\n",
       "      <th>year</th>\n",
       "      <th>month</th>\n",
       "      <th>day</th>\n",
       "      <th>Time</th>\n",
       "      <th>Temperature</th>\n",
       "      <th>Dew Point</th>\n",
       "      <th>Humidity</th>\n",
       "      <th>Wind</th>\n",
       "      <th>Wind Speed</th>\n",
       "      <th>Wind Gust</th>\n",
       "      <th>Pressure</th>\n",
       "      <th>Precip.</th>\n",
       "      <th>Precip Accum</th>\n",
       "      <th>Condition</th>\n",
       "    </tr>\n",
       "  </thead>\n",
       "  <tbody>\n",
       "    <tr>\n",
       "      <th>0</th>\n",
       "      <td>2016</td>\n",
       "      <td>3</td>\n",
       "      <td>3</td>\n",
       "      <td>12:00 AM</td>\n",
       "      <td>75</td>\n",
       "      <td>57</td>\n",
       "      <td>53</td>\n",
       "      <td>CALM</td>\n",
       "      <td>0</td>\n",
       "      <td>0</td>\n",
       "      <td>28.9</td>\n",
       "      <td>0.0</td>\n",
       "      <td>0.0</td>\n",
       "      <td>Fair</td>\n",
       "    </tr>\n",
       "    <tr>\n",
       "      <th>1</th>\n",
       "      <td>2016</td>\n",
       "      <td>3</td>\n",
       "      <td>3</td>\n",
       "      <td>12:30 AM</td>\n",
       "      <td>73</td>\n",
       "      <td>57</td>\n",
       "      <td>57</td>\n",
       "      <td>N</td>\n",
       "      <td>2</td>\n",
       "      <td>0</td>\n",
       "      <td>28.9</td>\n",
       "      <td>0.0</td>\n",
       "      <td>0.0</td>\n",
       "      <td>Fair</td>\n",
       "    </tr>\n",
       "    <tr>\n",
       "      <th>2</th>\n",
       "      <td>2016</td>\n",
       "      <td>3</td>\n",
       "      <td>3</td>\n",
       "      <td>1:00 AM</td>\n",
       "      <td>73</td>\n",
       "      <td>57</td>\n",
       "      <td>57</td>\n",
       "      <td>CALM</td>\n",
       "      <td>0</td>\n",
       "      <td>0</td>\n",
       "      <td>28.9</td>\n",
       "      <td>0.0</td>\n",
       "      <td>0.0</td>\n",
       "      <td>Fair</td>\n",
       "    </tr>\n",
       "    <tr>\n",
       "      <th>3</th>\n",
       "      <td>2016</td>\n",
       "      <td>3</td>\n",
       "      <td>3</td>\n",
       "      <td>1:30 AM</td>\n",
       "      <td>73</td>\n",
       "      <td>57</td>\n",
       "      <td>57</td>\n",
       "      <td>CALM</td>\n",
       "      <td>0</td>\n",
       "      <td>0</td>\n",
       "      <td>28.9</td>\n",
       "      <td>0.0</td>\n",
       "      <td>0.0</td>\n",
       "      <td>Fair</td>\n",
       "    </tr>\n",
       "    <tr>\n",
       "      <th>4</th>\n",
       "      <td>2016</td>\n",
       "      <td>3</td>\n",
       "      <td>3</td>\n",
       "      <td>2:00 AM</td>\n",
       "      <td>72</td>\n",
       "      <td>57</td>\n",
       "      <td>60</td>\n",
       "      <td>NW</td>\n",
       "      <td>3</td>\n",
       "      <td>0</td>\n",
       "      <td>28.9</td>\n",
       "      <td>0.0</td>\n",
       "      <td>0.0</td>\n",
       "      <td>Fair</td>\n",
       "    </tr>\n",
       "  </tbody>\n",
       "</table>\n",
       "</div>"
      ],
      "text/plain": [
       "   year  month  day      Time  Temperature  Dew Point  Humidity  Wind  \\\n",
       "0  2016      3    3  12:00 AM           75         57        53  CALM   \n",
       "1  2016      3    3  12:30 AM           73         57        57     N   \n",
       "2  2016      3    3   1:00 AM           73         57        57  CALM   \n",
       "3  2016      3    3   1:30 AM           73         57        57  CALM   \n",
       "4  2016      3    3   2:00 AM           72         57        60    NW   \n",
       "\n",
       "   Wind Speed  Wind Gust  Pressure  Precip.  Precip Accum Condition  \n",
       "0           0          0      28.9      0.0           0.0      Fair  \n",
       "1           2          0      28.9      0.0           0.0      Fair  \n",
       "2           0          0      28.9      0.0           0.0      Fair  \n",
       "3           0          0      28.9      0.0           0.0      Fair  \n",
       "4           3          0      28.9      0.0           0.0      Fair  "
      ]
     },
     "execution_count": 3,
     "metadata": {},
     "output_type": "execute_result"
    }
   ],
   "source": [
    "df.head()"
   ]
  },
  {
   "cell_type": "code",
   "execution_count": 5,
   "metadata": {},
   "outputs": [
    {
     "data": {
      "text/plain": [
       "Index(['year', 'month', 'day', 'Time', 'Temperature', 'Dew Point', 'Humidity',\n",
       "       'Wind', 'Wind Speed', 'Wind Gust', 'Pressure', 'Precip.',\n",
       "       'Precip Accum', 'Condition'],\n",
       "      dtype='object')"
      ]
     },
     "execution_count": 5,
     "metadata": {},
     "output_type": "execute_result"
    }
   ],
   "source": [
    "df.keys()"
   ]
  },
  {
   "cell_type": "code",
   "execution_count": 7,
   "metadata": {},
   "outputs": [
    {
     "data": {
      "text/plain": [
       "2018    16937\n",
       "2017    16493\n",
       "2016    14123\n",
       "2019     4543\n",
       "Name: year, dtype: int64"
      ]
     },
     "execution_count": 7,
     "metadata": {},
     "output_type": "execute_result"
    }
   ],
   "source": [
    "df['year'].value_counts()"
   ]
  },
  {
   "cell_type": "code",
   "execution_count": 8,
   "metadata": {},
   "outputs": [
    {
     "data": {
      "text/plain": [
       "77     6360\n",
       "79     5647\n",
       "81     4509\n",
       "75     4390\n",
       "82     3871\n",
       "84     3513\n",
       "86     3306\n",
       "88     2799\n",
       "73     2597\n",
       "90     2321\n",
       "72     1774\n",
       "91     1754\n",
       "70     1469\n",
       "68     1294\n",
       "93     1286\n",
       "66     1005\n",
       "95      936\n",
       "64      717\n",
       "97      626\n",
       "99      434\n",
       "63      396\n",
       "100     276\n",
       "61      219\n",
       "102     174\n",
       "104     140\n",
       "59      109\n",
       "57       47\n",
       "106      36\n",
       "55       30\n",
       "0        22\n",
       "54       15\n",
       "50       13\n",
       "52        7\n",
       "149       1\n",
       "172       1\n",
       "48        1\n",
       "113       1\n",
       "Name: Temperature, dtype: int64"
      ]
     },
     "execution_count": 8,
     "metadata": {},
     "output_type": "execute_result"
    }
   ],
   "source": [
    "df['Temperature'].value_counts()"
   ]
  },
  {
   "cell_type": "code",
   "execution_count": 9,
   "metadata": {},
   "outputs": [
    {
     "data": {
      "text/plain": [
       "73     8542\n",
       "72     8372\n",
       "70     5164\n",
       "68     3857\n",
       "66     3059\n",
       "63     2903\n",
       "64     2857\n",
       "61     2829\n",
       "59     2804\n",
       "57     2509\n",
       "75     2150\n",
       "55     1977\n",
       "54     1517\n",
       "52     1061\n",
       "50      793\n",
       "48      454\n",
       "46      361\n",
       "45      233\n",
       "77      178\n",
       "43      139\n",
       "41      107\n",
       "39       68\n",
       "37       52\n",
       "36       37\n",
       "34       27\n",
       "0        22\n",
       "79       10\n",
       "28        3\n",
       "32        3\n",
       "30        2\n",
       "82        2\n",
       "169       1\n",
       "81        1\n",
       "25        1\n",
       "27        1\n",
       "Name: Dew Point, dtype: int64"
      ]
     },
     "execution_count": 9,
     "metadata": {},
     "output_type": "execute_result"
    }
   ],
   "source": [
    "df['Dew Point'].value_counts()"
   ]
  },
  {
   "cell_type": "code",
   "execution_count": 10,
   "metadata": {},
   "outputs": [
    {
     "data": {
      "text/plain": [
       "83    5019\n",
       "89    4024\n",
       "94    3063\n",
       "78    2838\n",
       "74    2642\n",
       "      ... \n",
       "10       7\n",
       "11       7\n",
       "3        1\n",
       "9        1\n",
       "76       1\n",
       "Name: Humidity, Length: 79, dtype: int64"
      ]
     },
     "execution_count": 10,
     "metadata": {},
     "output_type": "execute_result"
    }
   ],
   "source": [
    "df['Humidity'].value_counts()"
   ]
  },
  {
   "cell_type": "code",
   "execution_count": 11,
   "metadata": {},
   "outputs": [
    {
     "data": {
      "text/plain": [
       "CALM    13621\n",
       "VAR      4940\n",
       "S        4722\n",
       "SSW      3548\n",
       "SW       3172\n",
       "N        3161\n",
       "WSW      2816\n",
       "SSE      2523\n",
       "W        2500\n",
       "NNE      2170\n",
       "SE       1705\n",
       "NE       1439\n",
       "E        1148\n",
       "NNW      1116\n",
       "WNW       979\n",
       "ESE       938\n",
       "NW        792\n",
       "ENE       731\n",
       "Name: Wind, dtype: int64"
      ]
     },
     "execution_count": 11,
     "metadata": {},
     "output_type": "execute_result"
    }
   ],
   "source": [
    "df['Wind'].value_counts()"
   ]
  },
  {
   "cell_type": "code",
   "execution_count": 12,
   "metadata": {},
   "outputs": [
    {
     "data": {
      "text/plain": [
       "0      13693\n",
       "3       8347\n",
       "5       7642\n",
       "2       6535\n",
       "6       5414\n",
       "7       3571\n",
       "8       2330\n",
       "9       1442\n",
       "10       914\n",
       "1        631\n",
       "12       566\n",
       "13       355\n",
       "14       219\n",
       "15       134\n",
       "16       109\n",
       "17        58\n",
       "18        32\n",
       "20        23\n",
       "21        17\n",
       "23        14\n",
       "22        12\n",
       "24         7\n",
       "25         5\n",
       "28         4\n",
       "26         4\n",
       "89         3\n",
       "39         3\n",
       "77         2\n",
       "51         2\n",
       "81         1\n",
       "62         1\n",
       "100        1\n",
       "58         1\n",
       "46         1\n",
       "29         1\n",
       "96         1\n",
       "31         1\n",
       "Name: Wind Speed, dtype: int64"
      ]
     },
     "execution_count": 12,
     "metadata": {},
     "output_type": "execute_result"
    }
   ],
   "source": [
    "df['Wind Speed'].value_counts()"
   ]
  },
  {
   "cell_type": "code",
   "execution_count": 13,
   "metadata": {},
   "outputs": [
    {
     "data": {
      "text/plain": [
       "28.8    17352\n",
       "28.7    13377\n",
       "28.9     9366\n",
       "28.6     7228\n",
       "29.0     3875\n",
       "28.5      470\n",
       "29.1      344\n",
       "29.2       39\n",
       "28.4       21\n",
       "0.0        19\n",
       "30.7        2\n",
       "29.7        1\n",
       "31.0        1\n",
       "29.3        1\n",
       "Name: Pressure, dtype: int64"
      ]
     },
     "execution_count": 13,
     "metadata": {},
     "output_type": "execute_result"
    }
   ],
   "source": [
    "df['Pressure'].value_counts()"
   ]
  },
  {
   "cell_type": "code",
   "execution_count": 14,
   "metadata": {},
   "outputs": [
    {
     "data": {
      "text/plain": [
       "0     52018\n",
       "28        8\n",
       "26        7\n",
       "24        6\n",
       "20        6\n",
       "31        6\n",
       "25        6\n",
       "29        6\n",
       "22        5\n",
       "23        3\n",
       "21        3\n",
       "36        3\n",
       "35        3\n",
       "32        3\n",
       "30        2\n",
       "17        2\n",
       "16        2\n",
       "39        2\n",
       "18        2\n",
       "43        1\n",
       "38        1\n",
       "37        1\n",
       "Name: Wind Gust, dtype: int64"
      ]
     },
     "execution_count": 14,
     "metadata": {},
     "output_type": "execute_result"
    }
   ],
   "source": [
    "df['Wind Gust'].value_counts()"
   ]
  },
  {
   "cell_type": "code",
   "execution_count": 15,
   "metadata": {},
   "outputs": [
    {
     "data": {
      "text/plain": [
       "0.0    52096\n",
       "Name: Precip Accum, dtype: int64"
      ]
     },
     "execution_count": 15,
     "metadata": {},
     "output_type": "execute_result"
    }
   ],
   "source": [
    "df['Precip Accum'].value_counts()"
   ]
  },
  {
   "cell_type": "code",
   "execution_count": 17,
   "metadata": {},
   "outputs": [
    {
     "data": {
      "text/plain": [
       "<AxesSubplot:>"
      ]
     },
     "execution_count": 17,
     "metadata": {},
     "output_type": "execute_result"
    },
    {
     "data": {
      "image/png": "[encoded data removed]",
      "text/plain": [
       "<Figure size 432x288 with 1 Axes>"
      ]
     },
     "metadata": {
      "needs_background": "light"
     },
     "output_type": "display_data"
    }
   ],
   "source": [
    "df['Temperature'].plot()"
   ]
  },
  {
   "cell_type": "code",
   "execution_count": 18,
   "metadata": {},
   "outputs": [
    {
     "data": {
      "text/plain": [
       "<AxesSubplot:>"
      ]
     },
     "execution_count": 18,
     "metadata": {},
     "output_type": "execute_result"
    },
    {
     "data": {
      "image/png": "[encoded data removed]",
      "text/plain": [
       "<Figure size 432x288 with 1 Axes>"
      ]
     },
     "metadata": {
      "needs_background": "light"
     },
     "output_type": "display_data"
    }
   ],
   "source": [
    "df['Dew Point'].plot()"
   ]
  },
  {
   "cell_type": "code",
   "execution_count": 19,
   "metadata": {},
   "outputs": [
    {
     "data": {
      "text/plain": [
       "<AxesSubplot:>"
      ]
     },
     "execution_count": 19,
     "metadata": {},
     "output_type": "execute_result"
    },
    {
     "data": {
      "image/png": "[encoded data removed]",
      "text/plain": [
       "<Figure size 432x288 with 1 Axes>"
      ]
     },
     "metadata": {
      "needs_background": "light"
     },
     "output_type": "display_data"
    }
   ],
   "source": [
    "df['Humidity'].plot()"
   ]
  },
  {
   "cell_type": "code",
   "execution_count": 20,
   "metadata": {},
   "outputs": [
    {
     "data": {
      "text/plain": [
       "<AxesSubplot:>"
      ]
     },
     "execution_count": 20,
     "metadata": {},
     "output_type": "execute_result"
    },
    {
     "data": {
      "image/png": "[encoded data removed]",
      "text/plain": [
       "<Figure size 432x288 with 1 Axes>"
      ]
     },
     "metadata": {
      "needs_background": "light"
     },
     "output_type": "display_data"
    }
   ],
   "source": [
    "df['Wind Speed'].plot()"
   ]
  },
  {
   "cell_type": "code",
   "execution_count": 21,
   "metadata": {},
   "outputs": [
    {
     "data": {
      "text/plain": [
       "<AxesSubplot:>"
      ]
     },
     "execution_count": 21,
     "metadata": {},
     "output_type": "execute_result"
    },
    {
     "data": {
      "image/png": "[encoded data removed]",
      "text/plain": [
       "<Figure size 432x288 with 1 Axes>"
      ]
     },
     "metadata": {
      "needs_background": "light"
     },
     "output_type": "display_data"
    }
   ],
   "source": [
    "df['Pressure'].plot()"
   ]
  },
  {
   "cell_type": "markdown",
   "metadata": {},
   "source": [
    "### Clean"
   ]
  },
  {
   "cell_type": "code",
   "execution_count": 4,
   "metadata": {},
   "outputs": [],
   "source": [
    "df = df.drop(['year', 'Time', 'day', 'Wind Gust', 'Precip.', 'Precip Accum'], axis=1)"
   ]
  },
  {
   "cell_type": "code",
   "execution_count": 5,
   "metadata": {},
   "outputs": [],
   "source": [
    "Wind = df.pop('Wind')"
   ]
  },
  {
   "cell_type": "code",
   "execution_count": 6,
   "metadata": {},
   "outputs": [],
   "source": [
    "month = df.pop('month')"
   ]
  },
  {
   "cell_type": "code",
   "execution_count": 7,
   "metadata": {},
   "outputs": [],
   "source": [
    "y = df.pop('Condition')"
   ]
  },
  {
   "cell_type": "code",
   "execution_count": 8,
   "metadata": {},
   "outputs": [
    {
     "data": {
      "text/html": [
       "<div>\n",
       "<style scoped>\n",
       "    .dataframe tbody tr th:only-of-type {\n",
       "        vertical-align: middle;\n",
       "    }\n",
       "\n",
       "    .dataframe tbody tr th {\n",
       "        vertical-align: top;\n",
       "    }\n",
       "\n",
       "    .dataframe thead th {\n",
       "        text-align: right;\n",
       "    }\n",
       "</style>\n",
       "<table border=\"1\" class=\"dataframe\">\n",
       "  <thead>\n",
       "    <tr style=\"text-align: right;\">\n",
       "      <th></th>\n",
       "      <th>Temperature</th>\n",
       "      <th>Dew Point</th>\n",
       "      <th>Humidity</th>\n",
       "      <th>Wind Speed</th>\n",
       "      <th>Pressure</th>\n",
       "    </tr>\n",
       "  </thead>\n",
       "  <tbody>\n",
       "    <tr>\n",
       "      <th>0</th>\n",
       "      <td>75</td>\n",
       "      <td>57</td>\n",
       "      <td>53</td>\n",
       "      <td>0</td>\n",
       "      <td>28.9</td>\n",
       "    </tr>\n",
       "    <tr>\n",
       "      <th>1</th>\n",
       "      <td>73</td>\n",
       "      <td>57</td>\n",
       "      <td>57</td>\n",
       "      <td>2</td>\n",
       "      <td>28.9</td>\n",
       "    </tr>\n",
       "    <tr>\n",
       "      <th>2</th>\n",
       "      <td>73</td>\n",
       "      <td>57</td>\n",
       "      <td>57</td>\n",
       "      <td>0</td>\n",
       "      <td>28.9</td>\n",
       "    </tr>\n",
       "    <tr>\n",
       "      <th>3</th>\n",
       "      <td>73</td>\n",
       "      <td>57</td>\n",
       "      <td>57</td>\n",
       "      <td>0</td>\n",
       "      <td>28.9</td>\n",
       "    </tr>\n",
       "    <tr>\n",
       "      <th>4</th>\n",
       "      <td>72</td>\n",
       "      <td>57</td>\n",
       "      <td>60</td>\n",
       "      <td>3</td>\n",
       "      <td>28.9</td>\n",
       "    </tr>\n",
       "    <tr>\n",
       "      <th>...</th>\n",
       "      <td>...</td>\n",
       "      <td>...</td>\n",
       "      <td>...</td>\n",
       "      <td>...</td>\n",
       "      <td>...</td>\n",
       "    </tr>\n",
       "    <tr>\n",
       "      <th>52091</th>\n",
       "      <td>91</td>\n",
       "      <td>54</td>\n",
       "      <td>28</td>\n",
       "      <td>6</td>\n",
       "      <td>28.7</td>\n",
       "    </tr>\n",
       "    <tr>\n",
       "      <th>52092</th>\n",
       "      <td>90</td>\n",
       "      <td>54</td>\n",
       "      <td>29</td>\n",
       "      <td>3</td>\n",
       "      <td>28.8</td>\n",
       "    </tr>\n",
       "    <tr>\n",
       "      <th>52093</th>\n",
       "      <td>88</td>\n",
       "      <td>55</td>\n",
       "      <td>33</td>\n",
       "      <td>6</td>\n",
       "      <td>28.8</td>\n",
       "    </tr>\n",
       "    <tr>\n",
       "      <th>52094</th>\n",
       "      <td>88</td>\n",
       "      <td>54</td>\n",
       "      <td>31</td>\n",
       "      <td>6</td>\n",
       "      <td>28.8</td>\n",
       "    </tr>\n",
       "    <tr>\n",
       "      <th>52095</th>\n",
       "      <td>88</td>\n",
       "      <td>55</td>\n",
       "      <td>33</td>\n",
       "      <td>7</td>\n",
       "      <td>28.8</td>\n",
       "    </tr>\n",
       "  </tbody>\n",
       "</table>\n",
       "<p>52096 rows × 5 columns</p>\n",
       "</div>"
      ],
      "text/plain": [
       "       Temperature  Dew Point  Humidity  Wind Speed  Pressure\n",
       "0               75         57        53           0      28.9\n",
       "1               73         57        57           2      28.9\n",
       "2               73         57        57           0      28.9\n",
       "3               73         57        57           0      28.9\n",
       "4               72         57        60           3      28.9\n",
       "...            ...        ...       ...         ...       ...\n",
       "52091           91         54        28           6      28.7\n",
       "52092           90         54        29           3      28.8\n",
       "52093           88         55        33           6      28.8\n",
       "52094           88         54        31           6      28.8\n",
       "52095           88         55        33           7      28.8\n",
       "\n",
       "[52096 rows x 5 columns]"
      ]
     },
     "execution_count": 8,
     "metadata": {},
     "output_type": "execute_result"
    }
   ],
   "source": [
    "df"
   ]
  },
  {
   "cell_type": "code",
   "execution_count": 9,
   "metadata": {},
   "outputs": [],
   "source": [
    "from sklearn.preprocessing import MinMaxScaler"
   ]
  },
  {
   "cell_type": "code",
   "execution_count": 10,
   "metadata": {},
   "outputs": [],
   "source": [
    "scaler = MinMaxScaler()"
   ]
  },
  {
   "cell_type": "code",
   "execution_count": 11,
   "metadata": {},
   "outputs": [],
   "source": [
    "df.loc[:,:] = scaler.fit_transform(df)"
   ]
  },
  {
   "cell_type": "code",
   "execution_count": 12,
   "metadata": {},
   "outputs": [
    {
     "data": {
      "text/html": [
       "<div>\n",
       "<style scoped>\n",
       "    .dataframe tbody tr th:only-of-type {\n",
       "        vertical-align: middle;\n",
       "    }\n",
       "\n",
       "    .dataframe tbody tr th {\n",
       "        vertical-align: top;\n",
       "    }\n",
       "\n",
       "    .dataframe thead th {\n",
       "        text-align: right;\n",
       "    }\n",
       "</style>\n",
       "<table border=\"1\" class=\"dataframe\">\n",
       "  <thead>\n",
       "    <tr style=\"text-align: right;\">\n",
       "      <th></th>\n",
       "      <th>Temperature</th>\n",
       "      <th>Dew Point</th>\n",
       "      <th>Humidity</th>\n",
       "      <th>Wind Speed</th>\n",
       "      <th>Pressure</th>\n",
       "    </tr>\n",
       "  </thead>\n",
       "  <tbody>\n",
       "    <tr>\n",
       "      <th>0</th>\n",
       "      <td>0.436047</td>\n",
       "      <td>0.337278</td>\n",
       "      <td>0.53</td>\n",
       "      <td>0.00</td>\n",
       "      <td>0.932258</td>\n",
       "    </tr>\n",
       "    <tr>\n",
       "      <th>1</th>\n",
       "      <td>0.424419</td>\n",
       "      <td>0.337278</td>\n",
       "      <td>0.57</td>\n",
       "      <td>0.02</td>\n",
       "      <td>0.932258</td>\n",
       "    </tr>\n",
       "    <tr>\n",
       "      <th>2</th>\n",
       "      <td>0.424419</td>\n",
       "      <td>0.337278</td>\n",
       "      <td>0.57</td>\n",
       "      <td>0.00</td>\n",
       "      <td>0.932258</td>\n",
       "    </tr>\n",
       "    <tr>\n",
       "      <th>3</th>\n",
       "      <td>0.424419</td>\n",
       "      <td>0.337278</td>\n",
       "      <td>0.57</td>\n",
       "      <td>0.00</td>\n",
       "      <td>0.932258</td>\n",
       "    </tr>\n",
       "    <tr>\n",
       "      <th>4</th>\n",
       "      <td>0.418605</td>\n",
       "      <td>0.337278</td>\n",
       "      <td>0.60</td>\n",
       "      <td>0.03</td>\n",
       "      <td>0.932258</td>\n",
       "    </tr>\n",
       "    <tr>\n",
       "      <th>...</th>\n",
       "      <td>...</td>\n",
       "      <td>...</td>\n",
       "      <td>...</td>\n",
       "      <td>...</td>\n",
       "      <td>...</td>\n",
       "    </tr>\n",
       "    <tr>\n",
       "      <th>52091</th>\n",
       "      <td>0.529070</td>\n",
       "      <td>0.319527</td>\n",
       "      <td>0.28</td>\n",
       "      <td>0.06</td>\n",
       "      <td>0.925806</td>\n",
       "    </tr>\n",
       "    <tr>\n",
       "      <th>52092</th>\n",
       "      <td>0.523256</td>\n",
       "      <td>0.319527</td>\n",
       "      <td>0.29</td>\n",
       "      <td>0.03</td>\n",
       "      <td>0.929032</td>\n",
       "    </tr>\n",
       "    <tr>\n",
       "      <th>52093</th>\n",
       "      <td>0.511628</td>\n",
       "      <td>0.325444</td>\n",
       "      <td>0.33</td>\n",
       "      <td>0.06</td>\n",
       "      <td>0.929032</td>\n",
       "    </tr>\n",
       "    <tr>\n",
       "      <th>52094</th>\n",
       "      <td>0.511628</td>\n",
       "      <td>0.319527</td>\n",
       "      <td>0.31</td>\n",
       "      <td>0.06</td>\n",
       "      <td>0.929032</td>\n",
       "    </tr>\n",
       "    <tr>\n",
       "      <th>52095</th>\n",
       "      <td>0.511628</td>\n",
       "      <td>0.325444</td>\n",
       "      <td>0.33</td>\n",
       "      <td>0.07</td>\n",
       "      <td>0.929032</td>\n",
       "    </tr>\n",
       "  </tbody>\n",
       "</table>\n",
       "<p>52096 rows × 5 columns</p>\n",
       "</div>"
      ],
      "text/plain": [
       "       Temperature  Dew Point  Humidity  Wind Speed  Pressure\n",
       "0         0.436047   0.337278      0.53        0.00  0.932258\n",
       "1         0.424419   0.337278      0.57        0.02  0.932258\n",
       "2         0.424419   0.337278      0.57        0.00  0.932258\n",
       "3         0.424419   0.337278      0.57        0.00  0.932258\n",
       "4         0.418605   0.337278      0.60        0.03  0.932258\n",
       "...            ...        ...       ...         ...       ...\n",
       "52091     0.529070   0.319527      0.28        0.06  0.925806\n",
       "52092     0.523256   0.319527      0.29        0.03  0.929032\n",
       "52093     0.511628   0.325444      0.33        0.06  0.929032\n",
       "52094     0.511628   0.319527      0.31        0.06  0.929032\n",
       "52095     0.511628   0.325444      0.33        0.07  0.929032\n",
       "\n",
       "[52096 rows x 5 columns]"
      ]
     },
     "execution_count": 12,
     "metadata": {},
     "output_type": "execute_result"
    }
   ],
   "source": [
    "df"
   ]
  },
  {
   "cell_type": "code",
   "execution_count": 13,
   "metadata": {},
   "outputs": [],
   "source": [
    "month = pd.get_dummies(month,prefix='month')"
   ]
  },
  {
   "cell_type": "code",
   "execution_count": 14,
   "metadata": {},
   "outputs": [
    {
     "data": {
      "text/html": [
       "<div>\n",
       "<style scoped>\n",
       "    .dataframe tbody tr th:only-of-type {\n",
       "        vertical-align: middle;\n",
       "    }\n",
       "\n",
       "    .dataframe tbody tr th {\n",
       "        vertical-align: top;\n",
       "    }\n",
       "\n",
       "    .dataframe thead th {\n",
       "        text-align: right;\n",
       "    }\n",
       "</style>\n",
       "<table border=\"1\" class=\"dataframe\">\n",
       "  <thead>\n",
       "    <tr style=\"text-align: right;\">\n",
       "      <th></th>\n",
       "      <th>month_1</th>\n",
       "      <th>month_2</th>\n",
       "      <th>month_3</th>\n",
       "      <th>month_4</th>\n",
       "      <th>month_5</th>\n",
       "      <th>month_6</th>\n",
       "      <th>month_7</th>\n",
       "      <th>month_8</th>\n",
       "      <th>month_9</th>\n",
       "      <th>month_10</th>\n",
       "      <th>month_11</th>\n",
       "      <th>month_12</th>\n",
       "    </tr>\n",
       "  </thead>\n",
       "  <tbody>\n",
       "    <tr>\n",
       "      <th>0</th>\n",
       "      <td>0</td>\n",
       "      <td>0</td>\n",
       "      <td>1</td>\n",
       "      <td>0</td>\n",
       "      <td>0</td>\n",
       "      <td>0</td>\n",
       "      <td>0</td>\n",
       "      <td>0</td>\n",
       "      <td>0</td>\n",
       "      <td>0</td>\n",
       "      <td>0</td>\n",
       "      <td>0</td>\n",
       "    </tr>\n",
       "    <tr>\n",
       "      <th>1</th>\n",
       "      <td>0</td>\n",
       "      <td>0</td>\n",
       "      <td>1</td>\n",
       "      <td>0</td>\n",
       "      <td>0</td>\n",
       "      <td>0</td>\n",
       "      <td>0</td>\n",
       "      <td>0</td>\n",
       "      <td>0</td>\n",
       "      <td>0</td>\n",
       "      <td>0</td>\n",
       "      <td>0</td>\n",
       "    </tr>\n",
       "    <tr>\n",
       "      <th>2</th>\n",
       "      <td>0</td>\n",
       "      <td>0</td>\n",
       "      <td>1</td>\n",
       "      <td>0</td>\n",
       "      <td>0</td>\n",
       "      <td>0</td>\n",
       "      <td>0</td>\n",
       "      <td>0</td>\n",
       "      <td>0</td>\n",
       "      <td>0</td>\n",
       "      <td>0</td>\n",
       "      <td>0</td>\n",
       "    </tr>\n",
       "    <tr>\n",
       "      <th>3</th>\n",
       "      <td>0</td>\n",
       "      <td>0</td>\n",
       "      <td>1</td>\n",
       "      <td>0</td>\n",
       "      <td>0</td>\n",
       "      <td>0</td>\n",
       "      <td>0</td>\n",
       "      <td>0</td>\n",
       "      <td>0</td>\n",
       "      <td>0</td>\n",
       "      <td>0</td>\n",
       "      <td>0</td>\n",
       "    </tr>\n",
       "    <tr>\n",
       "      <th>4</th>\n",
       "      <td>0</td>\n",
       "      <td>0</td>\n",
       "      <td>1</td>\n",
       "      <td>0</td>\n",
       "      <td>0</td>\n",
       "      <td>0</td>\n",
       "      <td>0</td>\n",
       "      <td>0</td>\n",
       "      <td>0</td>\n",
       "      <td>0</td>\n",
       "      <td>0</td>\n",
       "      <td>0</td>\n",
       "    </tr>\n",
       "  </tbody>\n",
       "</table>\n",
       "</div>"
      ],
      "text/plain": [
       "   month_1  month_2  month_3  month_4  month_5  month_6  month_7  month_8  \\\n",
       "0        0        0        1        0        0        0        0        0   \n",
       "1        0        0        1        0        0        0        0        0   \n",
       "2        0        0        1        0        0        0        0        0   \n",
       "3        0        0        1        0        0        0        0        0   \n",
       "4        0        0        1        0        0        0        0        0   \n",
       "\n",
       "   month_9  month_10  month_11  month_12  \n",
       "0        0         0         0         0  \n",
       "1        0         0         0         0  \n",
       "2        0         0         0         0  \n",
       "3        0         0         0         0  \n",
       "4        0         0         0         0  "
      ]
     },
     "execution_count": 14,
     "metadata": {},
     "output_type": "execute_result"
    }
   ],
   "source": [
    "month.head()"
   ]
  },
  {
   "cell_type": "code",
   "execution_count": 15,
   "metadata": {},
   "outputs": [],
   "source": [
    "Wind = Wind.fillna(method = 'ffill')"
   ]
  },
  {
   "cell_type": "code",
   "execution_count": 16,
   "metadata": {},
   "outputs": [],
   "source": [
    "Wind = pd.get_dummies(Wind, prefix='wind')"
   ]
  },
  {
   "cell_type": "code",
   "execution_count": 17,
   "metadata": {},
   "outputs": [
    {
     "data": {
      "text/html": [
       "<div>\n",
       "<style scoped>\n",
       "    .dataframe tbody tr th:only-of-type {\n",
       "        vertical-align: middle;\n",
       "    }\n",
       "\n",
       "    .dataframe tbody tr th {\n",
       "        vertical-align: top;\n",
       "    }\n",
       "\n",
       "    .dataframe thead th {\n",
       "        text-align: right;\n",
       "    }\n",
       "</style>\n",
       "<table border=\"1\" class=\"dataframe\">\n",
       "  <thead>\n",
       "    <tr style=\"text-align: right;\">\n",
       "      <th></th>\n",
       "      <th>wind_CALM</th>\n",
       "      <th>wind_E</th>\n",
       "      <th>wind_ENE</th>\n",
       "      <th>wind_ESE</th>\n",
       "      <th>wind_N</th>\n",
       "      <th>wind_NE</th>\n",
       "      <th>wind_NNE</th>\n",
       "      <th>wind_NNW</th>\n",
       "      <th>wind_NW</th>\n",
       "      <th>wind_S</th>\n",
       "      <th>wind_SE</th>\n",
       "      <th>wind_SSE</th>\n",
       "      <th>wind_SSW</th>\n",
       "      <th>wind_SW</th>\n",
       "      <th>wind_VAR</th>\n",
       "      <th>wind_W</th>\n",
       "      <th>wind_WNW</th>\n",
       "      <th>wind_WSW</th>\n",
       "    </tr>\n",
       "  </thead>\n",
       "  <tbody>\n",
       "    <tr>\n",
       "      <th>0</th>\n",
       "      <td>1</td>\n",
       "      <td>0</td>\n",
       "      <td>0</td>\n",
       "      <td>0</td>\n",
       "      <td>0</td>\n",
       "      <td>0</td>\n",
       "      <td>0</td>\n",
       "      <td>0</td>\n",
       "      <td>0</td>\n",
       "      <td>0</td>\n",
       "      <td>0</td>\n",
       "      <td>0</td>\n",
       "      <td>0</td>\n",
       "      <td>0</td>\n",
       "      <td>0</td>\n",
       "      <td>0</td>\n",
       "      <td>0</td>\n",
       "      <td>0</td>\n",
       "    </tr>\n",
       "    <tr>\n",
       "      <th>1</th>\n",
       "      <td>0</td>\n",
       "      <td>0</td>\n",
       "      <td>0</td>\n",
       "      <td>0</td>\n",
       "      <td>1</td>\n",
       "      <td>0</td>\n",
       "      <td>0</td>\n",
       "      <td>0</td>\n",
       "      <td>0</td>\n",
       "      <td>0</td>\n",
       "      <td>0</td>\n",
       "      <td>0</td>\n",
       "      <td>0</td>\n",
       "      <td>0</td>\n",
       "      <td>0</td>\n",
       "      <td>0</td>\n",
       "      <td>0</td>\n",
       "      <td>0</td>\n",
       "    </tr>\n",
       "    <tr>\n",
       "      <th>2</th>\n",
       "      <td>1</td>\n",
       "      <td>0</td>\n",
       "      <td>0</td>\n",
       "      <td>0</td>\n",
       "      <td>0</td>\n",
       "      <td>0</td>\n",
       "      <td>0</td>\n",
       "      <td>0</td>\n",
       "      <td>0</td>\n",
       "      <td>0</td>\n",
       "      <td>0</td>\n",
       "      <td>0</td>\n",
       "      <td>0</td>\n",
       "      <td>0</td>\n",
       "      <td>0</td>\n",
       "      <td>0</td>\n",
       "      <td>0</td>\n",
       "      <td>0</td>\n",
       "    </tr>\n",
       "    <tr>\n",
       "      <th>3</th>\n",
       "      <td>1</td>\n",
       "      <td>0</td>\n",
       "      <td>0</td>\n",
       "      <td>0</td>\n",
       "      <td>0</td>\n",
       "      <td>0</td>\n",
       "      <td>0</td>\n",
       "      <td>0</td>\n",
       "      <td>0</td>\n",
       "      <td>0</td>\n",
       "      <td>0</td>\n",
       "      <td>0</td>\n",
       "      <td>0</td>\n",
       "      <td>0</td>\n",
       "      <td>0</td>\n",
       "      <td>0</td>\n",
       "      <td>0</td>\n",
       "      <td>0</td>\n",
       "    </tr>\n",
       "    <tr>\n",
       "      <th>4</th>\n",
       "      <td>0</td>\n",
       "      <td>0</td>\n",
       "      <td>0</td>\n",
       "      <td>0</td>\n",
       "      <td>0</td>\n",
       "      <td>0</td>\n",
       "      <td>0</td>\n",
       "      <td>0</td>\n",
       "      <td>1</td>\n",
       "      <td>0</td>\n",
       "      <td>0</td>\n",
       "      <td>0</td>\n",
       "      <td>0</td>\n",
       "      <td>0</td>\n",
       "      <td>0</td>\n",
       "      <td>0</td>\n",
       "      <td>0</td>\n",
       "      <td>0</td>\n",
       "    </tr>\n",
       "    <tr>\n",
       "      <th>...</th>\n",
       "      <td>...</td>\n",
       "      <td>...</td>\n",
       "      <td>...</td>\n",
       "      <td>...</td>\n",
       "      <td>...</td>\n",
       "      <td>...</td>\n",
       "      <td>...</td>\n",
       "      <td>...</td>\n",
       "      <td>...</td>\n",
       "      <td>...</td>\n",
       "      <td>...</td>\n",
       "      <td>...</td>\n",
       "      <td>...</td>\n",
       "      <td>...</td>\n",
       "      <td>...</td>\n",
       "      <td>...</td>\n",
       "      <td>...</td>\n",
       "      <td>...</td>\n",
       "    </tr>\n",
       "    <tr>\n",
       "      <th>52091</th>\n",
       "      <td>0</td>\n",
       "      <td>0</td>\n",
       "      <td>0</td>\n",
       "      <td>0</td>\n",
       "      <td>0</td>\n",
       "      <td>0</td>\n",
       "      <td>0</td>\n",
       "      <td>0</td>\n",
       "      <td>0</td>\n",
       "      <td>1</td>\n",
       "      <td>0</td>\n",
       "      <td>0</td>\n",
       "      <td>0</td>\n",
       "      <td>0</td>\n",
       "      <td>0</td>\n",
       "      <td>0</td>\n",
       "      <td>0</td>\n",
       "      <td>0</td>\n",
       "    </tr>\n",
       "    <tr>\n",
       "      <th>52092</th>\n",
       "      <td>0</td>\n",
       "      <td>0</td>\n",
       "      <td>0</td>\n",
       "      <td>0</td>\n",
       "      <td>0</td>\n",
       "      <td>0</td>\n",
       "      <td>0</td>\n",
       "      <td>0</td>\n",
       "      <td>1</td>\n",
       "      <td>0</td>\n",
       "      <td>0</td>\n",
       "      <td>0</td>\n",
       "      <td>0</td>\n",
       "      <td>0</td>\n",
       "      <td>0</td>\n",
       "      <td>0</td>\n",
       "      <td>0</td>\n",
       "      <td>0</td>\n",
       "    </tr>\n",
       "    <tr>\n",
       "      <th>52093</th>\n",
       "      <td>0</td>\n",
       "      <td>0</td>\n",
       "      <td>0</td>\n",
       "      <td>0</td>\n",
       "      <td>0</td>\n",
       "      <td>0</td>\n",
       "      <td>0</td>\n",
       "      <td>0</td>\n",
       "      <td>0</td>\n",
       "      <td>0</td>\n",
       "      <td>0</td>\n",
       "      <td>0</td>\n",
       "      <td>0</td>\n",
       "      <td>0</td>\n",
       "      <td>0</td>\n",
       "      <td>0</td>\n",
       "      <td>0</td>\n",
       "      <td>1</td>\n",
       "    </tr>\n",
       "    <tr>\n",
       "      <th>52094</th>\n",
       "      <td>0</td>\n",
       "      <td>0</td>\n",
       "      <td>0</td>\n",
       "      <td>0</td>\n",
       "      <td>0</td>\n",
       "      <td>0</td>\n",
       "      <td>0</td>\n",
       "      <td>0</td>\n",
       "      <td>0</td>\n",
       "      <td>0</td>\n",
       "      <td>0</td>\n",
       "      <td>0</td>\n",
       "      <td>0</td>\n",
       "      <td>1</td>\n",
       "      <td>0</td>\n",
       "      <td>0</td>\n",
       "      <td>0</td>\n",
       "      <td>0</td>\n",
       "    </tr>\n",
       "    <tr>\n",
       "      <th>52095</th>\n",
       "      <td>0</td>\n",
       "      <td>0</td>\n",
       "      <td>0</td>\n",
       "      <td>0</td>\n",
       "      <td>0</td>\n",
       "      <td>0</td>\n",
       "      <td>0</td>\n",
       "      <td>0</td>\n",
       "      <td>0</td>\n",
       "      <td>0</td>\n",
       "      <td>0</td>\n",
       "      <td>0</td>\n",
       "      <td>0</td>\n",
       "      <td>0</td>\n",
       "      <td>0</td>\n",
       "      <td>0</td>\n",
       "      <td>0</td>\n",
       "      <td>1</td>\n",
       "    </tr>\n",
       "  </tbody>\n",
       "</table>\n",
       "<p>52096 rows × 18 columns</p>\n",
       "</div>"
      ],
      "text/plain": [
       "       wind_CALM  wind_E  wind_ENE  wind_ESE  wind_N  wind_NE  wind_NNE  \\\n",
       "0              1       0         0         0       0        0         0   \n",
       "1              0       0         0         0       1        0         0   \n",
       "2              1       0         0         0       0        0         0   \n",
       "3              1       0         0         0       0        0         0   \n",
       "4              0       0         0         0       0        0         0   \n",
       "...          ...     ...       ...       ...     ...      ...       ...   \n",
       "52091          0       0         0         0       0        0         0   \n",
       "52092          0       0         0         0       0        0         0   \n",
       "52093          0       0         0         0       0        0         0   \n",
       "52094          0       0         0         0       0        0         0   \n",
       "52095          0       0         0         0       0        0         0   \n",
       "\n",
       "       wind_NNW  wind_NW  wind_S  wind_SE  wind_SSE  wind_SSW  wind_SW  \\\n",
       "0             0        0       0        0         0         0        0   \n",
       "1             0        0       0        0         0         0        0   \n",
       "2             0        0       0        0         0         0        0   \n",
       "3             0        0       0        0         0         0        0   \n",
       "4             0        1       0        0         0         0        0   \n",
       "...         ...      ...     ...      ...       ...       ...      ...   \n",
       "52091         0        0       1        0         0         0        0   \n",
       "52092         0        1       0        0         0         0        0   \n",
       "52093         0        0       0        0         0         0        0   \n",
       "52094         0        0       0        0         0         0        1   \n",
       "52095         0        0       0        0         0         0        0   \n",
       "\n",
       "       wind_VAR  wind_W  wind_WNW  wind_WSW  \n",
       "0             0       0         0         0  \n",
       "1             0       0         0         0  \n",
       "2             0       0         0         0  \n",
       "3             0       0         0         0  \n",
       "4             0       0         0         0  \n",
       "...         ...     ...       ...       ...  \n",
       "52091         0       0         0         0  \n",
       "52092         0       0         0         0  \n",
       "52093         0       0         0         1  \n",
       "52094         0       0         0         0  \n",
       "52095         0       0         0         1  \n",
       "\n",
       "[52096 rows x 18 columns]"
      ]
     },
     "execution_count": 17,
     "metadata": {},
     "output_type": "execute_result"
    }
   ],
   "source": [
    "Wind"
   ]
  },
  {
   "cell_type": "code",
   "execution_count": 18,
   "metadata": {},
   "outputs": [],
   "source": [
    "X = pd.concat([df, month, Wind], axis=1)"
   ]
  },
  {
   "cell_type": "code",
   "execution_count": 19,
   "metadata": {},
   "outputs": [
    {
     "data": {
      "text/html": [
       "<div>\n",
       "<style scoped>\n",
       "    .dataframe tbody tr th:only-of-type {\n",
       "        vertical-align: middle;\n",
       "    }\n",
       "\n",
       "    .dataframe tbody tr th {\n",
       "        vertical-align: top;\n",
       "    }\n",
       "\n",
       "    .dataframe thead th {\n",
       "        text-align: right;\n",
       "    }\n",
       "</style>\n",
       "<table border=\"1\" class=\"dataframe\">\n",
       "  <thead>\n",
       "    <tr style=\"text-align: right;\">\n",
       "      <th></th>\n",
       "      <th>Temperature</th>\n",
       "      <th>Dew Point</th>\n",
       "      <th>Humidity</th>\n",
       "      <th>Wind Speed</th>\n",
       "      <th>Pressure</th>\n",
       "      <th>month_1</th>\n",
       "      <th>month_2</th>\n",
       "      <th>month_3</th>\n",
       "      <th>month_4</th>\n",
       "      <th>month_5</th>\n",
       "      <th>...</th>\n",
       "      <th>wind_NW</th>\n",
       "      <th>wind_S</th>\n",
       "      <th>wind_SE</th>\n",
       "      <th>wind_SSE</th>\n",
       "      <th>wind_SSW</th>\n",
       "      <th>wind_SW</th>\n",
       "      <th>wind_VAR</th>\n",
       "      <th>wind_W</th>\n",
       "      <th>wind_WNW</th>\n",
       "      <th>wind_WSW</th>\n",
       "    </tr>\n",
       "  </thead>\n",
       "  <tbody>\n",
       "    <tr>\n",
       "      <th>0</th>\n",
       "      <td>0.436047</td>\n",
       "      <td>0.337278</td>\n",
       "      <td>0.53</td>\n",
       "      <td>0.00</td>\n",
       "      <td>0.932258</td>\n",
       "      <td>0</td>\n",
       "      <td>0</td>\n",
       "      <td>1</td>\n",
       "      <td>0</td>\n",
       "      <td>0</td>\n",
       "      <td>...</td>\n",
       "      <td>0</td>\n",
       "      <td>0</td>\n",
       "      <td>0</td>\n",
       "      <td>0</td>\n",
       "      <td>0</td>\n",
       "      <td>0</td>\n",
       "      <td>0</td>\n",
       "      <td>0</td>\n",
       "      <td>0</td>\n",
       "      <td>0</td>\n",
       "    </tr>\n",
       "    <tr>\n",
       "      <th>1</th>\n",
       "      <td>0.424419</td>\n",
       "      <td>0.337278</td>\n",
       "      <td>0.57</td>\n",
       "      <td>0.02</td>\n",
       "      <td>0.932258</td>\n",
       "      <td>0</td>\n",
       "      <td>0</td>\n",
       "      <td>1</td>\n",
       "      <td>0</td>\n",
       "      <td>0</td>\n",
       "      <td>...</td>\n",
       "      <td>0</td>\n",
       "      <td>0</td>\n",
       "      <td>0</td>\n",
       "      <td>0</td>\n",
       "      <td>0</td>\n",
       "      <td>0</td>\n",
       "      <td>0</td>\n",
       "      <td>0</td>\n",
       "      <td>0</td>\n",
       "      <td>0</td>\n",
       "    </tr>\n",
       "    <tr>\n",
       "      <th>2</th>\n",
       "      <td>0.424419</td>\n",
       "      <td>0.337278</td>\n",
       "      <td>0.57</td>\n",
       "      <td>0.00</td>\n",
       "      <td>0.932258</td>\n",
       "      <td>0</td>\n",
       "      <td>0</td>\n",
       "      <td>1</td>\n",
       "      <td>0</td>\n",
       "      <td>0</td>\n",
       "      <td>...</td>\n",
       "      <td>0</td>\n",
       "      <td>0</td>\n",
       "      <td>0</td>\n",
       "      <td>0</td>\n",
       "      <td>0</td>\n",
       "      <td>0</td>\n",
       "      <td>0</td>\n",
       "      <td>0</td>\n",
       "      <td>0</td>\n",
       "      <td>0</td>\n",
       "    </tr>\n",
       "    <tr>\n",
       "      <th>3</th>\n",
       "      <td>0.424419</td>\n",
       "      <td>0.337278</td>\n",
       "      <td>0.57</td>\n",
       "      <td>0.00</td>\n",
       "      <td>0.932258</td>\n",
       "      <td>0</td>\n",
       "      <td>0</td>\n",
       "      <td>1</td>\n",
       "      <td>0</td>\n",
       "      <td>0</td>\n",
       "      <td>...</td>\n",
       "      <td>0</td>\n",
       "      <td>0</td>\n",
       "      <td>0</td>\n",
       "      <td>0</td>\n",
       "      <td>0</td>\n",
       "      <td>0</td>\n",
       "      <td>0</td>\n",
       "      <td>0</td>\n",
       "      <td>0</td>\n",
       "      <td>0</td>\n",
       "    </tr>\n",
       "    <tr>\n",
       "      <th>4</th>\n",
       "      <td>0.418605</td>\n",
       "      <td>0.337278</td>\n",
       "      <td>0.60</td>\n",
       "      <td>0.03</td>\n",
       "      <td>0.932258</td>\n",
       "      <td>0</td>\n",
       "      <td>0</td>\n",
       "      <td>1</td>\n",
       "      <td>0</td>\n",
       "      <td>0</td>\n",
       "      <td>...</td>\n",
       "      <td>1</td>\n",
       "      <td>0</td>\n",
       "      <td>0</td>\n",
       "      <td>0</td>\n",
       "      <td>0</td>\n",
       "      <td>0</td>\n",
       "      <td>0</td>\n",
       "      <td>0</td>\n",
       "      <td>0</td>\n",
       "      <td>0</td>\n",
       "    </tr>\n",
       "  </tbody>\n",
       "</table>\n",
       "<p>5 rows × 35 columns</p>\n",
       "</div>"
      ],
      "text/plain": [
       "   Temperature  Dew Point  Humidity  Wind Speed  Pressure  month_1  month_2  \\\n",
       "0     0.436047   0.337278      0.53        0.00  0.932258        0        0   \n",
       "1     0.424419   0.337278      0.57        0.02  0.932258        0        0   \n",
       "2     0.424419   0.337278      0.57        0.00  0.932258        0        0   \n",
       "3     0.424419   0.337278      0.57        0.00  0.932258        0        0   \n",
       "4     0.418605   0.337278      0.60        0.03  0.932258        0        0   \n",
       "\n",
       "   month_3  month_4  month_5  ...  wind_NW  wind_S  wind_SE  wind_SSE  \\\n",
       "0        1        0        0  ...        0       0        0         0   \n",
       "1        1        0        0  ...        0       0        0         0   \n",
       "2        1        0        0  ...        0       0        0         0   \n",
       "3        1        0        0  ...        0       0        0         0   \n",
       "4        1        0        0  ...        1       0        0         0   \n",
       "\n",
       "   wind_SSW  wind_SW  wind_VAR  wind_W  wind_WNW  wind_WSW  \n",
       "0         0        0         0       0         0         0  \n",
       "1         0        0         0       0         0         0  \n",
       "2         0        0         0       0         0         0  \n",
       "3         0        0         0       0         0         0  \n",
       "4         0        0         0       0         0         0  \n",
       "\n",
       "[5 rows x 35 columns]"
      ]
     },
     "execution_count": 19,
     "metadata": {},
     "output_type": "execute_result"
    }
   ],
   "source": [
    "X.head()"
   ]
  },
  {
   "cell_type": "code",
   "execution_count": 20,
   "metadata": {},
   "outputs": [],
   "source": [
    "L = list(y.str.split('/'))\n",
    "K = []\n",
    "for i in L:\n",
    "    K.extend(i)"
   ]
  },
  {
   "cell_type": "code",
   "execution_count": 21,
   "metadata": {},
   "outputs": [],
   "source": [
    "Condition = list(set(K))"
   ]
  },
  {
   "cell_type": "code",
   "execution_count": 22,
   "metadata": {},
   "outputs": [],
   "source": [
    "Y = pd.DataFrame()\n",
    "for c in Condition:\n",
    "    Y[c] = y.str.contains(c)*1"
   ]
  },
  {
   "cell_type": "code",
   "execution_count": 23,
   "metadata": {},
   "outputs": [
    {
     "data": {
      "text/html": [
       "<div>\n",
       "<style scoped>\n",
       "    .dataframe tbody tr th:only-of-type {\n",
       "        vertical-align: middle;\n",
       "    }\n",
       "\n",
       "    .dataframe tbody tr th {\n",
       "        vertical-align: top;\n",
       "    }\n",
       "\n",
       "    .dataframe thead th {\n",
       "        text-align: right;\n",
       "    }\n",
       "</style>\n",
       "<table border=\"1\" class=\"dataframe\">\n",
       "  <thead>\n",
       "    <tr style=\"text-align: right;\">\n",
       "      <th></th>\n",
       "      <th>Fog</th>\n",
       "      <th>Fair</th>\n",
       "      <th>Rain</th>\n",
       "      <th>Haze</th>\n",
       "      <th>Light Drizzle</th>\n",
       "      <th>Mostly Cloudy</th>\n",
       "      <th>Mostly Cloudy</th>\n",
       "      <th>Partly Cloudy</th>\n",
       "      <th>Patches of Fog</th>\n",
       "      <th>Rain</th>\n",
       "      <th>...</th>\n",
       "      <th>Haze</th>\n",
       "      <th>Mist</th>\n",
       "      <th>Rain Shower</th>\n",
       "      <th>Thunder in the Vicinity</th>\n",
       "      <th>Windy</th>\n",
       "      <th>Fair</th>\n",
       "      <th>Light Rain</th>\n",
       "      <th>Heavy T-Storm</th>\n",
       "      <th>Showers in the Vicinity</th>\n",
       "      <th>T-Storm</th>\n",
       "    </tr>\n",
       "  </thead>\n",
       "  <tbody>\n",
       "    <tr>\n",
       "      <th>0</th>\n",
       "      <td>0</td>\n",
       "      <td>1</td>\n",
       "      <td>0</td>\n",
       "      <td>0</td>\n",
       "      <td>0</td>\n",
       "      <td>0</td>\n",
       "      <td>0</td>\n",
       "      <td>0</td>\n",
       "      <td>0</td>\n",
       "      <td>0</td>\n",
       "      <td>...</td>\n",
       "      <td>0</td>\n",
       "      <td>0</td>\n",
       "      <td>0</td>\n",
       "      <td>0</td>\n",
       "      <td>0</td>\n",
       "      <td>0</td>\n",
       "      <td>0</td>\n",
       "      <td>0</td>\n",
       "      <td>0</td>\n",
       "      <td>0</td>\n",
       "    </tr>\n",
       "    <tr>\n",
       "      <th>1</th>\n",
       "      <td>0</td>\n",
       "      <td>1</td>\n",
       "      <td>0</td>\n",
       "      <td>0</td>\n",
       "      <td>0</td>\n",
       "      <td>0</td>\n",
       "      <td>0</td>\n",
       "      <td>0</td>\n",
       "      <td>0</td>\n",
       "      <td>0</td>\n",
       "      <td>...</td>\n",
       "      <td>0</td>\n",
       "      <td>0</td>\n",
       "      <td>0</td>\n",
       "      <td>0</td>\n",
       "      <td>0</td>\n",
       "      <td>0</td>\n",
       "      <td>0</td>\n",
       "      <td>0</td>\n",
       "      <td>0</td>\n",
       "      <td>0</td>\n",
       "    </tr>\n",
       "    <tr>\n",
       "      <th>2</th>\n",
       "      <td>0</td>\n",
       "      <td>1</td>\n",
       "      <td>0</td>\n",
       "      <td>0</td>\n",
       "      <td>0</td>\n",
       "      <td>0</td>\n",
       "      <td>0</td>\n",
       "      <td>0</td>\n",
       "      <td>0</td>\n",
       "      <td>0</td>\n",
       "      <td>...</td>\n",
       "      <td>0</td>\n",
       "      <td>0</td>\n",
       "      <td>0</td>\n",
       "      <td>0</td>\n",
       "      <td>0</td>\n",
       "      <td>0</td>\n",
       "      <td>0</td>\n",
       "      <td>0</td>\n",
       "      <td>0</td>\n",
       "      <td>0</td>\n",
       "    </tr>\n",
       "    <tr>\n",
       "      <th>3</th>\n",
       "      <td>0</td>\n",
       "      <td>1</td>\n",
       "      <td>0</td>\n",
       "      <td>0</td>\n",
       "      <td>0</td>\n",
       "      <td>0</td>\n",
       "      <td>0</td>\n",
       "      <td>0</td>\n",
       "      <td>0</td>\n",
       "      <td>0</td>\n",
       "      <td>...</td>\n",
       "      <td>0</td>\n",
       "      <td>0</td>\n",
       "      <td>0</td>\n",
       "      <td>0</td>\n",
       "      <td>0</td>\n",
       "      <td>0</td>\n",
       "      <td>0</td>\n",
       "      <td>0</td>\n",
       "      <td>0</td>\n",
       "      <td>0</td>\n",
       "    </tr>\n",
       "    <tr>\n",
       "      <th>4</th>\n",
       "      <td>0</td>\n",
       "      <td>1</td>\n",
       "      <td>0</td>\n",
       "      <td>0</td>\n",
       "      <td>0</td>\n",
       "      <td>0</td>\n",
       "      <td>0</td>\n",
       "      <td>0</td>\n",
       "      <td>0</td>\n",
       "      <td>0</td>\n",
       "      <td>...</td>\n",
       "      <td>0</td>\n",
       "      <td>0</td>\n",
       "      <td>0</td>\n",
       "      <td>0</td>\n",
       "      <td>0</td>\n",
       "      <td>0</td>\n",
       "      <td>0</td>\n",
       "      <td>0</td>\n",
       "      <td>0</td>\n",
       "      <td>0</td>\n",
       "    </tr>\n",
       "  </tbody>\n",
       "</table>\n",
       "<p>5 rows × 31 columns</p>\n",
       "</div>"
      ],
      "text/plain": [
       "   Fog  Fair  Rain  Haze   Light Drizzle  Mostly Cloudy  Mostly Cloudy   \\\n",
       "0    0     1     0      0              0              0               0   \n",
       "1    0     1     0      0              0              0               0   \n",
       "2    0     1     0      0              0              0               0   \n",
       "3    0     1     0      0              0              0               0   \n",
       "4    0     1     0      0              0              0               0   \n",
       "\n",
       "   Partly Cloudy  Patches of Fog  Rain   ...  Haze  Mist  Rain Shower  \\\n",
       "0              0               0      0  ...     0     0            0   \n",
       "1              0               0      0  ...     0     0            0   \n",
       "2              0               0      0  ...     0     0            0   \n",
       "3              0               0      0  ...     0     0            0   \n",
       "4              0               0      0  ...     0     0            0   \n",
       "\n",
       "   Thunder in the Vicinity   Windy  Fair   Light Rain  Heavy T-Storm  \\\n",
       "0                        0       0      0           0              0   \n",
       "1                        0       0      0           0              0   \n",
       "2                        0       0      0           0              0   \n",
       "3                        0       0      0           0              0   \n",
       "4                        0       0      0           0              0   \n",
       "\n",
       "   Showers in the Vicinity  T-Storm   \n",
       "0                        0         0  \n",
       "1                        0         0  \n",
       "2                        0         0  \n",
       "3                        0         0  \n",
       "4                        0         0  \n",
       "\n",
       "[5 rows x 31 columns]"
      ]
     },
     "execution_count": 23,
     "metadata": {},
     "output_type": "execute_result"
    }
   ],
   "source": [
    "Y.head()"
   ]
  },
  {
   "cell_type": "code",
   "execution_count": 24,
   "metadata": {},
   "outputs": [],
   "source": [
    "def gen_index(start, stop, step, n_frames):\n",
    "    X = []\n",
    "    Y = []\n",
    "    for i in range(start, stop+step, step):\n",
    "        sample = [ i+j*step for j in range(n_frames) ]\n",
    "        X.append(sample)\n",
    "        Y.append(i+n_frames*step)\n",
    "        \n",
    "    return X, Y"
   ]
  },
  {
   "cell_type": "code",
   "execution_count": 25,
   "metadata": {},
   "outputs": [],
   "source": [
    "index_x, index_y = gen_index(1,52096-6,1,5)"
   ]
  },
  {
   "cell_type": "code",
   "execution_count": 26,
   "metadata": {},
   "outputs": [
    {
     "data": {
      "text/plain": [
       "[52090, 52091, 52092, 52093, 52094]"
      ]
     },
     "execution_count": 26,
     "metadata": {},
     "output_type": "execute_result"
    }
   ],
   "source": [
    "index_x[-1]"
   ]
  },
  {
   "cell_type": "code",
   "execution_count": 27,
   "metadata": {},
   "outputs": [
    {
     "data": {
      "text/plain": [
       "52095"
      ]
     },
     "execution_count": 27,
     "metadata": {},
     "output_type": "execute_result"
    }
   ],
   "source": [
    "index_y[-1]"
   ]
  },
  {
   "cell_type": "code",
   "execution_count": 28,
   "metadata": {},
   "outputs": [
    {
     "data": {
      "text/plain": [
       "Index(['Temperature', 'Dew Point', 'Humidity', 'Wind Speed', 'Pressure',\n",
       "       'month_1', 'month_2', 'month_3', 'month_4', 'month_5', 'month_6',\n",
       "       'month_7', 'month_8', 'month_9', 'month_10', 'month_11', 'month_12',\n",
       "       'wind_CALM', 'wind_E', 'wind_ENE', 'wind_ESE', 'wind_N', 'wind_NE',\n",
       "       'wind_NNE', 'wind_NNW', 'wind_NW', 'wind_S', 'wind_SE', 'wind_SSE',\n",
       "       'wind_SSW', 'wind_SW', 'wind_VAR', 'wind_W', 'wind_WNW', 'wind_WSW'],\n",
       "      dtype='object')"
      ]
     },
     "execution_count": 28,
     "metadata": {},
     "output_type": "execute_result"
    }
   ],
   "source": [
    "X.columns"
   ]
  },
  {
   "cell_type": "code",
   "execution_count": 29,
   "metadata": {},
   "outputs": [],
   "source": [
    "L = []\n",
    "for c in X.columns:\n",
    "    l = []\n",
    "    for i in index_x:\n",
    "        a = X[c].iloc[i].values\n",
    "        l.append(a)\n",
    "    L.append(np.array(l))"
   ]
  },
  {
   "cell_type": "code",
   "execution_count": 30,
   "metadata": {},
   "outputs": [
    {
     "data": {
      "text/plain": [
       "(35, 52090, 5)"
      ]
     },
     "execution_count": 30,
     "metadata": {},
     "output_type": "execute_result"
    }
   ],
   "source": [
    "np.array(L).shape"
   ]
  },
  {
   "cell_type": "code",
   "execution_count": 31,
   "metadata": {},
   "outputs": [],
   "source": [
    "r = np.hstack(L)"
   ]
  },
  {
   "cell_type": "code",
   "execution_count": 32,
   "metadata": {},
   "outputs": [
    {
     "data": {
      "text/plain": [
       "(52090, 175)"
      ]
     },
     "execution_count": 32,
     "metadata": {},
     "output_type": "execute_result"
    }
   ],
   "source": [
    "r.shape"
   ]
  },
  {
   "cell_type": "code",
   "execution_count": 33,
   "metadata": {},
   "outputs": [],
   "source": [
    "X = r.reshape(52090, 35, 5).transpose(0, 2, 1)"
   ]
  },
  {
   "cell_type": "code",
   "execution_count": 34,
   "metadata": {},
   "outputs": [
    {
     "data": {
      "text/plain": [
       "(52090, 5, 35)"
      ]
     },
     "execution_count": 34,
     "metadata": {},
     "output_type": "execute_result"
    }
   ],
   "source": [
    "X.shape"
   ]
  },
  {
   "cell_type": "code",
   "execution_count": 35,
   "metadata": {},
   "outputs": [],
   "source": [
    "X = X.astype(np.int32)"
   ]
  },
  {
   "cell_type": "code",
   "execution_count": 36,
   "metadata": {},
   "outputs": [],
   "source": [
    "Y = Y.iloc[index_y]\n",
    "Y = Y.values.astype(np.int32)"
   ]
  },
  {
   "cell_type": "code",
   "execution_count": 37,
   "metadata": {},
   "outputs": [
    {
     "data": {
      "text/plain": [
       "(52090, 31)"
      ]
     },
     "execution_count": 37,
     "metadata": {},
     "output_type": "execute_result"
    }
   ],
   "source": [
    "Y.shape"
   ]
  },
  {
   "cell_type": "markdown",
   "metadata": {},
   "source": [
    "### Train"
   ]
  },
  {
   "cell_type": "code",
   "execution_count": 38,
   "metadata": {},
   "outputs": [],
   "source": [
    "from tensorflow.keras.layers import Dense, SimpleRNN, Dropout, LSTM\n",
    "from tensorflow.keras import Sequential\n",
    "from sklearn.model_selection import train_test_split"
   ]
  },
  {
   "cell_type": "code",
   "execution_count": 39,
   "metadata": {},
   "outputs": [],
   "source": [
    "X_train, X_test, Y_train, Y_test = train_test_split(X, Y, test_size=0.3)"
   ]
  },
  {
   "cell_type": "code",
   "execution_count": 40,
   "metadata": {},
   "outputs": [],
   "source": [
    "n_frames = 5\n",
    "n_features = 35"
   ]
  },
  {
   "cell_type": "code",
   "execution_count": 41,
   "metadata": {},
   "outputs": [],
   "source": [
    "model = Sequential()\n",
    "model.add(LSTM(128, input_shape=(n_frames, n_features), return_sequences=False))\n",
    "model.add(Dense(64, activation='relu') )\n",
    "model.add(Dense(64, activation='relu') )\n",
    "model.add(Dense(31) ) # output\n",
    "model.compile(loss='mse', optimizer='adam',\n",
    "             metrics=['accuracy'],\n",
    "             )"
   ]
  },
  {
   "cell_type": "code",
   "execution_count": 42,
   "metadata": {},
   "outputs": [
    {
     "name": "stdout",
     "output_type": "stream",
     "text": [
      "Train on 36463 samples, validate on 15627 samples\n",
      "Epoch 1/50\n",
      "36463/36463 - 20s - loss: 0.0194 - accuracy: 0.5907 - val_loss: 0.0188 - val_accuracy: 0.5991\n",
      "Epoch 2/50\n",
      "36463/36463 - 15s - loss: 0.0189 - accuracy: 0.6008 - val_loss: 0.0187 - val_accuracy: 0.6022\n",
      "Epoch 3/50\n",
      "36463/36463 - 15s - loss: 0.0188 - accuracy: 0.6012 - val_loss: 0.0186 - val_accuracy: 0.6029\n",
      "Epoch 4/50\n",
      "36463/36463 - 14s - loss: 0.0187 - accuracy: 0.6044 - val_loss: 0.0185 - val_accuracy: 0.6038\n",
      "Epoch 5/50\n",
      "36463/36463 - 15s - loss: 0.0186 - accuracy: 0.6067 - val_loss: 0.0188 - val_accuracy: 0.6059\n",
      "Epoch 6/50\n",
      "36463/36463 - 14s - loss: 0.0185 - accuracy: 0.6095 - val_loss: 0.0186 - val_accuracy: 0.6072\n",
      "Epoch 7/50\n",
      "36463/36463 - 16s - loss: 0.0184 - accuracy: 0.6113 - val_loss: 0.0184 - val_accuracy: 0.6109\n",
      "Epoch 8/50\n",
      "36463/36463 - 15s - loss: 0.0183 - accuracy: 0.6126 - val_loss: 0.0184 - val_accuracy: 0.6130\n",
      "Epoch 9/50\n",
      "36463/36463 - 15s - loss: 0.0182 - accuracy: 0.6163 - val_loss: 0.0185 - val_accuracy: 0.6103\n",
      "Epoch 10/50\n",
      "36463/36463 - 15s - loss: 0.0181 - accuracy: 0.6199 - val_loss: 0.0185 - val_accuracy: 0.6075\n",
      "Epoch 11/50\n",
      "36463/36463 - 15s - loss: 0.0180 - accuracy: 0.6220 - val_loss: 0.0184 - val_accuracy: 0.6112\n",
      "Epoch 12/50\n",
      "36463/36463 - 15s - loss: 0.0179 - accuracy: 0.6255 - val_loss: 0.0185 - val_accuracy: 0.6134\n",
      "Epoch 13/50\n",
      "36463/36463 - 15s - loss: 0.0177 - accuracy: 0.6273 - val_loss: 0.0184 - val_accuracy: 0.6106\n",
      "Epoch 14/50\n",
      "36463/36463 - 14s - loss: 0.0176 - accuracy: 0.6325 - val_loss: 0.0185 - val_accuracy: 0.6136\n",
      "Epoch 15/50\n",
      "36463/36463 - 15s - loss: 0.0174 - accuracy: 0.6387 - val_loss: 0.0185 - val_accuracy: 0.6112\n",
      "Epoch 16/50\n",
      "36463/36463 - 15s - loss: 0.0172 - accuracy: 0.6464 - val_loss: 0.0184 - val_accuracy: 0.6123\n",
      "Epoch 17/50\n",
      "36463/36463 - 15s - loss: 0.0170 - accuracy: 0.6507 - val_loss: 0.0186 - val_accuracy: 0.6076\n",
      "Epoch 18/50\n",
      "36463/36463 - 14s - loss: 0.0168 - accuracy: 0.6571 - val_loss: 0.0186 - val_accuracy: 0.6096\n",
      "Epoch 19/50\n",
      "36463/36463 - 16s - loss: 0.0166 - accuracy: 0.6609 - val_loss: 0.0186 - val_accuracy: 0.6144\n",
      "Epoch 20/50\n",
      "36463/36463 - 15s - loss: 0.0163 - accuracy: 0.6685 - val_loss: 0.0187 - val_accuracy: 0.6094\n",
      "Epoch 21/50\n",
      "36463/36463 - 15s - loss: 0.0161 - accuracy: 0.6741 - val_loss: 0.0187 - val_accuracy: 0.6130\n",
      "Epoch 22/50\n",
      "36463/36463 - 14s - loss: 0.0158 - accuracy: 0.6841 - val_loss: 0.0188 - val_accuracy: 0.6090\n",
      "Epoch 23/50\n",
      "36463/36463 - 15s - loss: 0.0155 - accuracy: 0.6887 - val_loss: 0.0189 - val_accuracy: 0.6152\n",
      "Epoch 24/50\n",
      "36463/36463 - 15s - loss: 0.0152 - accuracy: 0.6961 - val_loss: 0.0193 - val_accuracy: 0.6084\n",
      "Epoch 25/50\n",
      "36463/36463 - 15s - loss: 0.0150 - accuracy: 0.7028 - val_loss: 0.0192 - val_accuracy: 0.6114\n",
      "Epoch 26/50\n",
      "36463/36463 - 15s - loss: 0.0147 - accuracy: 0.7111 - val_loss: 0.0195 - val_accuracy: 0.6050\n",
      "Epoch 27/50\n",
      "36463/36463 - 15s - loss: 0.0145 - accuracy: 0.7158 - val_loss: 0.0194 - val_accuracy: 0.6086\n",
      "Epoch 28/50\n",
      "36463/36463 - 15s - loss: 0.0142 - accuracy: 0.7245 - val_loss: 0.0196 - val_accuracy: 0.6085\n",
      "Epoch 29/50\n",
      "36463/36463 - 14s - loss: 0.0140 - accuracy: 0.7286 - val_loss: 0.0198 - val_accuracy: 0.6050\n",
      "Epoch 30/50\n",
      "36463/36463 - 15s - loss: 0.0137 - accuracy: 0.7354 - val_loss: 0.0198 - val_accuracy: 0.6025\n",
      "Epoch 31/50\n",
      "36463/36463 - 16s - loss: 0.0135 - accuracy: 0.7420 - val_loss: 0.0200 - val_accuracy: 0.6054\n",
      "Epoch 32/50\n",
      "36463/36463 - 15s - loss: 0.0132 - accuracy: 0.7478 - val_loss: 0.0202 - val_accuracy: 0.6028\n",
      "Epoch 33/50\n",
      "36463/36463 - 17s - loss: 0.0130 - accuracy: 0.7530 - val_loss: 0.0200 - val_accuracy: 0.6065\n",
      "Epoch 34/50\n",
      "36463/36463 - 19s - loss: 0.0127 - accuracy: 0.7606 - val_loss: 0.0201 - val_accuracy: 0.6017\n",
      "Epoch 35/50\n",
      "36463/36463 - 20s - loss: 0.0125 - accuracy: 0.7646 - val_loss: 0.0202 - val_accuracy: 0.6066\n",
      "Epoch 36/50\n",
      "36463/36463 - 18s - loss: 0.0123 - accuracy: 0.7701 - val_loss: 0.0201 - val_accuracy: 0.6091\n",
      "Epoch 37/50\n",
      "36463/36463 - 23s - loss: 0.0121 - accuracy: 0.7748 - val_loss: 0.0205 - val_accuracy: 0.6076\n",
      "Epoch 38/50\n",
      "36463/36463 - 21s - loss: 0.0119 - accuracy: 0.7807 - val_loss: 0.0207 - val_accuracy: 0.6022\n",
      "Epoch 39/50\n",
      "36463/36463 - 18s - loss: 0.0117 - accuracy: 0.7841 - val_loss: 0.0207 - val_accuracy: 0.5991\n",
      "Epoch 40/50\n",
      "36463/36463 - 22s - loss: 0.0115 - accuracy: 0.7901 - val_loss: 0.0210 - val_accuracy: 0.5946\n",
      "Epoch 41/50\n",
      "36463/36463 - 19s - loss: 0.0114 - accuracy: 0.7922 - val_loss: 0.0212 - val_accuracy: 0.6009\n",
      "Epoch 42/50\n",
      "36463/36463 - 19s - loss: 0.0111 - accuracy: 0.7982 - val_loss: 0.0209 - val_accuracy: 0.6033\n",
      "Epoch 43/50\n",
      "36463/36463 - 18s - loss: 0.0110 - accuracy: 0.8036 - val_loss: 0.0214 - val_accuracy: 0.5926\n",
      "Epoch 44/50\n",
      "36463/36463 - 18s - loss: 0.0108 - accuracy: 0.8048 - val_loss: 0.0214 - val_accuracy: 0.5996\n",
      "Epoch 45/50\n",
      "36463/36463 - 17s - loss: 0.0107 - accuracy: 0.8056 - val_loss: 0.0212 - val_accuracy: 0.5970\n",
      "Epoch 46/50\n",
      "36463/36463 - 17s - loss: 0.0105 - accuracy: 0.8121 - val_loss: 0.0214 - val_accuracy: 0.6004\n",
      "Epoch 47/50\n",
      "36463/36463 - 19s - loss: 0.0103 - accuracy: 0.8144 - val_loss: 0.0216 - val_accuracy: 0.5926\n",
      "Epoch 48/50\n",
      "36463/36463 - 19s - loss: 0.0102 - accuracy: 0.8180 - val_loss: 0.0215 - val_accuracy: 0.5956\n",
      "Epoch 49/50\n",
      "36463/36463 - 17s - loss: 0.0102 - accuracy: 0.8189 - val_loss: 0.0218 - val_accuracy: 0.5948\n",
      "Epoch 50/50\n",
      "36463/36463 - 15s - loss: 0.0100 - accuracy: 0.8245 - val_loss: 0.0216 - val_accuracy: 0.5949\n"
     ]
    },
    {
     "data": {
      "text/plain": [
       "<tensorflow.python.keras.callbacks.History at 0x24c825e2208>"
      ]
     },
     "execution_count": 42,
     "metadata": {},
     "output_type": "execute_result"
    }
   ],
   "source": [
    "model.fit(X_train, Y_train,\n",
    "          validation_data=(X_test,Y_test),\n",
    "          batch_size=32,\n",
    "          verbose=2, epochs=50)"
   ]
  },
  {
   "cell_type": "code",
   "execution_count": null,
   "metadata": {},
   "outputs": [],
   "source": []
  }
 ],
 "metadata": {
  "kernelspec": {
   "display_name": "Python 3",
   "language": "python",
   "name": "python3"
  },
  "language_info": {
   "codemirror_mode": {
    "name": "ipython",
    "version": 3
   },
   "file_extension": ".py",
   "mimetype": "text/x-python",
   "name": "python",
   "nbconvert_exporter": "python",
   "pygments_lexer": "ipython3",
   "version": "3.7.4"
  }
 },
 "nbformat": 4,
 "nbformat_minor": 4
}
