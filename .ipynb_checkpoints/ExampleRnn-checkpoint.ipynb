{
 "cells": [
  {
   "cell_type": "code",
   "execution_count": 2,
   "metadata": {},
   "outputs": [],
   "source": [
    "from tensorflow.keras.layers import Dense, SimpleRNN, Dropout, LSTM\n",
    "from tensorflow.keras import Sequential\n",
    "import numpy as np\n",
    "from sklearn.model_selection import train_test_split"
   ]
  },
  {
   "cell_type": "code",
   "execution_count": 3,
   "metadata": {},
   "outputs": [],
   "source": [
    "n_frames = 3\n",
    "n_features = 1"
   ]
  },
  {
   "cell_type": "code",
   "execution_count": 4,
   "metadata": {},
   "outputs": [],
   "source": [
    "def gen_data(start, stop, step):\n",
    "    X = []\n",
    "    Y = []\n",
    "    for i in range(start, stop+step, step):\n",
    "        sample = [ i+j*step for j in range(n_frames) ]\n",
    "        X.append(sample)\n",
    "        Y.append(i+n_frames*step)\n",
    "    \n",
    "    X = np.array(X)\n",
    "    X = X.reshape((*X.shape,1))\n",
    "    Y = np.array(Y)\n",
    "        \n",
    "    return X, Y"
   ]
  },
  {
   "cell_type": "code",
   "execution_count": 5,
   "metadata": {},
   "outputs": [
    {
     "name": "stderr",
     "output_type": "stream",
     "text": [
      "C:\\Users\\ideapad 330\\Anaconda3\\lib\\site-packages\\ipykernel_launcher.py:6: VisibleDeprecationWarning: Creating an ndarray from ragged nested sequences (which is a list-or-tuple of lists-or-tuples-or ndarrays with different lengths or shapes) is deprecated. If you meant to do this, you must specify 'dtype=object' when creating the ndarray\n",
      "  \n",
      "C:\\Users\\ideapad 330\\Anaconda3\\lib\\site-packages\\ipykernel_launcher.py:9: VisibleDeprecationWarning: Creating an ndarray from ragged nested sequences (which is a list-or-tuple of lists-or-tuples-or ndarrays with different lengths or shapes) is deprecated. If you meant to do this, you must specify 'dtype=object' when creating the ndarray\n",
      "  if __name__ == '__main__':\n"
     ]
    }
   ],
   "source": [
    "X1,Y1 = gen_data(1,200,1)  # generate 1 increase step arrays  [[1,2,3],[2,3,4],...]\n",
    "X2,Y2 = gen_data(1,200,2) # generate 2 increase step arrays  [[1,3,5],[2,4,6],...]\n",
    "X3,Y3 = gen_data(200,1,-1)  # generate 1 increase step arrays  [[200,199,198],[199,198,197],...]\n",
    "X4,Y4 = gen_data(200,1,-2) # generate 2 increase step arrays  [[100,98,96],[199,197,195],...]\n",
    "\n",
    "temp_X = np.array([X1,X2,X3,X4])\n",
    "X = np.concatenate(temp_X,axis=0)\n",
    "\n",
    "temp_Y = np.array([Y1,Y2,Y3,Y4])\n",
    "Y = np.concatenate(temp_Y,axis=0)"
   ]
  },
  {
   "cell_type": "code",
   "execution_count": 6,
   "metadata": {},
   "outputs": [
    {
     "data": {
      "text/plain": [
       "(602, 3, 1)"
      ]
     },
     "execution_count": 6,
     "metadata": {},
     "output_type": "execute_result"
    }
   ],
   "source": [
    "X.shape"
   ]
  },
  {
   "cell_type": "code",
   "execution_count": 7,
   "metadata": {},
   "outputs": [
    {
     "data": {
      "text/plain": [
       "(602,)"
      ]
     },
     "execution_count": 7,
     "metadata": {},
     "output_type": "execute_result"
    }
   ],
   "source": [
    "Y.shape"
   ]
  },
  {
   "cell_type": "code",
   "execution_count": 12,
   "metadata": {},
   "outputs": [
    {
     "data": {
      "text/plain": [
       "array([[1],\n",
       "       [2],\n",
       "       [3]])"
      ]
     },
     "execution_count": 12,
     "metadata": {},
     "output_type": "execute_result"
    }
   ],
   "source": [
    "X[0]"
   ]
  },
  {
   "cell_type": "code",
   "execution_count": 8,
   "metadata": {},
   "outputs": [],
   "source": [
    "X_train, X_test, Y_train, Y_test = train_test_split(X, Y, test_size=0.3)"
   ]
  },
  {
   "cell_type": "code",
   "execution_count": 9,
   "metadata": {},
   "outputs": [],
   "source": [
    "model = Sequential()\n",
    "model.add(SimpleRNN(128, input_shape=(n_frames, n_features),return_sequences=False))\n",
    "model.add(Dense(64, activation='relu') )\n",
    "model.add(Dense(24, activation='relu') )\n",
    "model.add(Dense(1) ) # output\n",
    "model.compile(loss='mse', optimizer='adam',\n",
    "             metrics=['accuracy'],\n",
    "             )"
   ]
  },
  {
   "cell_type": "code",
   "execution_count": 10,
   "metadata": {},
   "outputs": [
    {
     "name": "stdout",
     "output_type": "stream",
     "text": [
      "Train on 421 samples, validate on 181 samples\n",
      "Epoch 1/50\n",
      "421/421 - 3s - loss: 12190.9972 - accuracy: 0.0024 - val_loss: 11768.5155 - val_accuracy: 0.0000e+00\n",
      "Epoch 2/50\n",
      "421/421 - 0s - loss: 10090.0685 - accuracy: 0.0024 - val_loss: 9178.7986 - val_accuracy: 0.0000e+00\n",
      "Epoch 3/50\n",
      "421/421 - 0s - loss: 7302.8581 - accuracy: 0.0048 - val_loss: 6105.3056 - val_accuracy: 0.0000e+00\n",
      "Epoch 4/50\n",
      "421/421 - 0s - loss: 4325.4594 - accuracy: 0.0048 - val_loss: 3164.9925 - val_accuracy: 0.0000e+00\n",
      "Epoch 5/50\n",
      "421/421 - 0s - loss: 1935.0715 - accuracy: 0.0024 - val_loss: 1153.5433 - val_accuracy: 0.0000e+00\n",
      "Epoch 6/50\n",
      "421/421 - 0s - loss: 597.2429 - accuracy: 0.0024 - val_loss: 315.9392 - val_accuracy: 0.0000e+00\n",
      "Epoch 7/50\n",
      "421/421 - 0s - loss: 161.0318 - accuracy: 0.0024 - val_loss: 81.7927 - val_accuracy: 0.0000e+00\n",
      "Epoch 8/50\n",
      "421/421 - 0s - loss: 44.6011 - accuracy: 0.0024 - val_loss: 26.5021 - val_accuracy: 0.0000e+00\n",
      "Epoch 9/50\n",
      "421/421 - 0s - loss: 15.6746 - accuracy: 0.0024 - val_loss: 12.1596 - val_accuracy: 0.0000e+00\n",
      "Epoch 10/50\n",
      "421/421 - 0s - loss: 8.1709 - accuracy: 0.0024 - val_loss: 8.4190 - val_accuracy: 0.0000e+00\n",
      "Epoch 11/50\n",
      "421/421 - 0s - loss: 5.9382 - accuracy: 0.0048 - val_loss: 7.0249 - val_accuracy: 0.0000e+00\n",
      "Epoch 12/50\n",
      "421/421 - 0s - loss: 5.1848 - accuracy: 0.0024 - val_loss: 6.3593 - val_accuracy: 0.0000e+00\n",
      "Epoch 13/50\n",
      "421/421 - 0s - loss: 4.2926 - accuracy: 0.0071 - val_loss: 5.5456 - val_accuracy: 0.0000e+00\n",
      "Epoch 14/50\n",
      "421/421 - 0s - loss: 3.8243 - accuracy: 0.0071 - val_loss: 4.5513 - val_accuracy: 0.0000e+00\n",
      "Epoch 15/50\n",
      "421/421 - 0s - loss: 3.2362 - accuracy: 0.0024 - val_loss: 3.7703 - val_accuracy: 0.0000e+00\n",
      "Epoch 16/50\n",
      "421/421 - 0s - loss: 3.1341 - accuracy: 0.0048 - val_loss: 3.4395 - val_accuracy: 0.0000e+00\n",
      "Epoch 17/50\n",
      "421/421 - 0s - loss: 2.7200 - accuracy: 0.0071 - val_loss: 3.1722 - val_accuracy: 0.0000e+00\n",
      "Epoch 18/50\n",
      "421/421 - 0s - loss: 2.2857 - accuracy: 0.0048 - val_loss: 2.6060 - val_accuracy: 0.0000e+00\n",
      "Epoch 19/50\n",
      "421/421 - 0s - loss: 1.9124 - accuracy: 0.0071 - val_loss: 2.7746 - val_accuracy: 0.0000e+00\n",
      "Epoch 20/50\n",
      "421/421 - 0s - loss: 1.9798 - accuracy: 0.0071 - val_loss: 2.5642 - val_accuracy: 0.0000e+00\n",
      "Epoch 21/50\n",
      "421/421 - 0s - loss: 1.5155 - accuracy: 0.0071 - val_loss: 2.2747 - val_accuracy: 0.0000e+00\n",
      "Epoch 22/50\n",
      "421/421 - 0s - loss: 1.6492 - accuracy: 0.0048 - val_loss: 2.5187 - val_accuracy: 0.0000e+00\n",
      "Epoch 23/50\n",
      "421/421 - 0s - loss: 1.4074 - accuracy: 0.0071 - val_loss: 2.1246 - val_accuracy: 0.0000e+00\n",
      "Epoch 24/50\n",
      "421/421 - 0s - loss: 2.2027 - accuracy: 0.0048 - val_loss: 3.0660 - val_accuracy: 0.0000e+00\n",
      "Epoch 25/50\n",
      "421/421 - 0s - loss: 2.3621 - accuracy: 0.0048 - val_loss: 2.6622 - val_accuracy: 0.0000e+00\n",
      "Epoch 26/50\n",
      "421/421 - 0s - loss: 1.6719 - accuracy: 0.0071 - val_loss: 2.3952 - val_accuracy: 0.0000e+00\n",
      "Epoch 27/50\n",
      "421/421 - 0s - loss: 1.5648 - accuracy: 0.0048 - val_loss: 1.7201 - val_accuracy: 0.0000e+00\n",
      "Epoch 28/50\n",
      "421/421 - 0s - loss: 0.9855 - accuracy: 0.0071 - val_loss: 1.6758 - val_accuracy: 0.0000e+00\n",
      "Epoch 29/50\n",
      "421/421 - 0s - loss: 0.9821 - accuracy: 0.0048 - val_loss: 2.8926 - val_accuracy: 0.0000e+00\n",
      "Epoch 30/50\n",
      "421/421 - 0s - loss: 2.5555 - accuracy: 0.0071 - val_loss: 4.3084 - val_accuracy: 0.0000e+00\n",
      "Epoch 31/50\n",
      "421/421 - 0s - loss: 3.1305 - accuracy: 0.0048 - val_loss: 2.4364 - val_accuracy: 0.0000e+00\n",
      "Epoch 32/50\n",
      "421/421 - 0s - loss: 4.9083 - accuracy: 0.0071 - val_loss: 6.5030 - val_accuracy: 0.0000e+00\n",
      "Epoch 33/50\n",
      "421/421 - 0s - loss: 3.6181 - accuracy: 0.0071 - val_loss: 3.4925 - val_accuracy: 0.0000e+00\n",
      "Epoch 34/50\n",
      "421/421 - 0s - loss: 2.2454 - accuracy: 0.0048 - val_loss: 2.3343 - val_accuracy: 0.0000e+00\n",
      "Epoch 35/50\n",
      "421/421 - 0s - loss: 1.4806 - accuracy: 0.0071 - val_loss: 1.6208 - val_accuracy: 0.0000e+00\n",
      "Epoch 36/50\n",
      "421/421 - 0s - loss: 0.8822 - accuracy: 0.0048 - val_loss: 1.6110 - val_accuracy: 0.0000e+00\n",
      "Epoch 37/50\n",
      "421/421 - 0s - loss: 0.7678 - accuracy: 0.0048 - val_loss: 1.4629 - val_accuracy: 0.0000e+00\n",
      "Epoch 38/50\n",
      "421/421 - 0s - loss: 0.6786 - accuracy: 0.0048 - val_loss: 1.7155 - val_accuracy: 0.0000e+00\n",
      "Epoch 39/50\n",
      "421/421 - 0s - loss: 0.8595 - accuracy: 0.0071 - val_loss: 1.9176 - val_accuracy: 0.0000e+00\n",
      "Epoch 40/50\n",
      "421/421 - 0s - loss: 0.7390 - accuracy: 0.0071 - val_loss: 1.6616 - val_accuracy: 0.0000e+00\n",
      "Epoch 41/50\n",
      "421/421 - 0s - loss: 0.6823 - accuracy: 0.0071 - val_loss: 1.2320 - val_accuracy: 0.0000e+00\n",
      "Epoch 42/50\n",
      "421/421 - 0s - loss: 0.6666 - accuracy: 0.0071 - val_loss: 1.3695 - val_accuracy: 0.0000e+00\n",
      "Epoch 43/50\n",
      "421/421 - 0s - loss: 0.9063 - accuracy: 0.0048 - val_loss: 1.4384 - val_accuracy: 0.0000e+00\n",
      "Epoch 44/50\n",
      "421/421 - 0s - loss: 0.8210 - accuracy: 0.0071 - val_loss: 1.2263 - val_accuracy: 0.0000e+00\n",
      "Epoch 45/50\n",
      "421/421 - 0s - loss: 0.7950 - accuracy: 0.0071 - val_loss: 1.5004 - val_accuracy: 0.0000e+00\n",
      "Epoch 46/50\n",
      "421/421 - 0s - loss: 0.6666 - accuracy: 0.0071 - val_loss: 1.6843 - val_accuracy: 0.0000e+00\n",
      "Epoch 47/50\n",
      "421/421 - 0s - loss: 0.8105 - accuracy: 0.0024 - val_loss: 1.4158 - val_accuracy: 0.0000e+00\n",
      "Epoch 48/50\n",
      "421/421 - 0s - loss: 0.7230 - accuracy: 0.0048 - val_loss: 1.1154 - val_accuracy: 0.0000e+00\n",
      "Epoch 49/50\n",
      "421/421 - 0s - loss: 0.4522 - accuracy: 0.0048 - val_loss: 1.1847 - val_accuracy: 0.0000e+00\n",
      "Epoch 50/50\n",
      "421/421 - 0s - loss: 0.5823 - accuracy: 0.0071 - val_loss: 1.1645 - val_accuracy: 0.0000e+00\n"
     ]
    },
    {
     "data": {
      "text/plain": [
       "<tensorflow.python.keras.callbacks.History at 0x22f0dc89388>"
      ]
     },
     "execution_count": 10,
     "metadata": {},
     "output_type": "execute_result"
    }
   ],
   "source": [
    "model.fit(X_train, Y_train,\n",
    "          validation_data=(X_test,Y_test),\n",
    "          batch_size=32,\n",
    "          verbose=2, epochs=50)"
   ]
  },
  {
   "cell_type": "code",
   "execution_count": null,
   "metadata": {},
   "outputs": [],
   "source": []
  }
 ],
 "metadata": {
  "kernelspec": {
   "display_name": "Python 3",
   "language": "python",
   "name": "python3"
  },
  "language_info": {
   "codemirror_mode": {
    "name": "ipython",
    "version": 3
   },
   "file_extension": ".py",
   "mimetype": "text/x-python",
   "name": "python",
   "nbconvert_exporter": "python",
   "pygments_lexer": "ipython3",
   "version": "3.7.4"
  }
 },
 "nbformat": 4,
 "nbformat_minor": 4
}
